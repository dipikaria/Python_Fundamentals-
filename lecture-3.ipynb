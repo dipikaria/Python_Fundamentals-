{
 "cells": [
  {
   "cell_type": "markdown",
   "id": "40ad7a4a",
   "metadata": {},
   "source": [
    "- List Slicing"
   ]
  },
  {
   "cell_type": "code",
   "execution_count": 23,
   "id": "608225b5",
   "metadata": {},
   "outputs": [
    {
     "name": "stdout",
     "output_type": "stream",
     "text": [
      "name: ['Abul', 'BAbul', 'Cabul', 'Dabul']\n",
      "phone_number: ['Abul', 'BAbul', 'Cabul', 'Dabul']\n",
      "phone_contacts: [['Abul', 'BAbul', 'Cabul', 'Dabul'], [1111, 2222, 3333, 4444]]\n",
      "['Abul', 'BAbul', 'Cabul', 'Dabul']\n",
      "BAbul\n",
      "2222\n",
      "Name_contact: BAbul 2222\n"
     ]
    }
   ],
   "source": [
    "name= [\"Abul\", \"BAbul\", \"Cabul\", \"Dabul\"]\n",
    "phone_number = [1111, 2222, 3333, 4444]\n",
    "phone_contacts = [name, phone_number]\n",
    "print(\"name:\", phone_contacts[0] )\n",
    "print(\"phone_number:\", phone_contacts[0] )\n",
    "print(\"phone_contacts:\", phone_contacts )\n",
    "print(phone_contacts [0])\n",
    "print(phone_contacts [0] [1])\n",
    "print(phone_contacts [1] [1])\n",
    "print(\"Name_contact:\", phone_contacts [0][1], phone_contacts[1][1] )"
   ]
  },
  {
   "cell_type": "markdown",
   "id": "1ba00456",
   "metadata": {},
   "source": [
    "- Checking length of a string"
   ]
  },
  {
   "cell_type": "code",
   "execution_count": 54,
   "id": "26e9e25f",
   "metadata": {},
   "outputs": [
    {
     "name": "stdout",
     "output_type": "stream",
     "text": [
      "5\n",
      "5\n"
     ]
    }
   ],
   "source": [
    "name: ['Abul', 'BAbul', 'Cabul', 'Dabul']\n",
    "phone_number: [1111, 2222, 3333, 4444]\n",
    "phone_contacts: [['Abul', 'BAbul', 'Cabul', 'Dabul'], [1111, 2222, 3333, 4444]]\n",
    "len(name)\n",
    "print(len(phone_contacts[0]))\n",
    "print(len(phone_contacts[0][1]))\n"
   ]
  },
  {
   "cell_type": "markdown",
   "id": "820d0fb6",
   "metadata": {},
   "source": [
    "- Checking the presence of an element in a list"
   ]
  },
  {
   "cell_type": "code",
   "execution_count": 45,
   "id": "a8925955",
   "metadata": {},
   "outputs": [
    {
     "data": {
      "text/plain": [
       "False"
      ]
     },
     "execution_count": 45,
     "metadata": {},
     "output_type": "execute_result"
    }
   ],
   "source": [
    "\"Babul\" in phone_contacts\n",
    "\"Abul\" in phone_contacts[0]\n",
    "\"Cabul\" not in phone_contacts[0]\n"
   ]
  },
  {
   "cell_type": "markdown",
   "id": "8348f1ed",
   "metadata": {},
   "source": [
    "- Insert a new element in the list\n",
    "\n",
    "<br>name.insert(index, value)\n"
   ]
  },
  {
   "cell_type": "code",
   "execution_count": 79,
   "id": "a3a2ad23",
   "metadata": {},
   "outputs": [],
   "source": [
    "name=['Abul', 'BAbul', 'Cabul', 'Dabul']\n",
    "name.insert(4, \"Ebul\")"
   ]
  },
  {
   "cell_type": "code",
   "execution_count": 113,
   "id": "e2c01ee1",
   "metadata": {},
   "outputs": [
    {
     "name": "stdout",
     "output_type": "stream",
     "text": [
      "name: ['Ebul', 'Dabul', 'Cabul', 'BAbul', 'Abul']\n",
      "[1111, 2222, 3333, 4444, 5555]\n",
      "16665\n"
     ]
    }
   ],
   "source": [
    "print(\"name:\", name)\n",
    "phone_number = [1111, 2222, 3333, 4444]\n",
    "phone_number.insert(4, 5555)\n",
    "print (phone_number)\n",
    "print (sum(phone_number))"
   ]
  },
  {
   "cell_type": "code",
   "execution_count": 84,
   "id": "e5897fdb",
   "metadata": {},
   "outputs": [
    {
     "name": "stdout",
     "output_type": "stream",
     "text": [
      "[['Abul', 'BAbul', 'Cabul', 'Dabul', 'Ebul'], [1111, 2222, 3333, 4444, 5555]]\n"
     ]
    }
   ],
   "source": [
    "updated_contact = [name, phone_number]\n",
    "print (updated_contact)"
   ]
  },
  {
   "cell_type": "code",
   "execution_count": 87,
   "id": "b14e7495",
   "metadata": {},
   "outputs": [
    {
     "name": "stdout",
     "output_type": "stream",
     "text": [
      "BAbul 2222\n"
     ]
    }
   ],
   "source": [
    "print (updated_contact[0][1],updated_contact[1][1] )"
   ]
  },
  {
   "cell_type": "markdown",
   "id": "91eac1a9",
   "metadata": {},
   "source": [
    "- How to reverse a list?\n"
   ]
  },
  {
   "cell_type": "code",
   "execution_count": 90,
   "id": "d53e4878",
   "metadata": {},
   "outputs": [
    {
     "name": "stdout",
     "output_type": "stream",
     "text": [
      "['Ebul', 'Dabul', 'Cabul', 'BAbul', 'Abul']\n",
      "[5555, 4444, 3333, 2222, 1111]\n",
      "[['Ebul', 'Dabul', 'Cabul', 'BAbul', 'Abul'], [5555, 4444, 3333, 2222, 1111]]\n"
     ]
    }
   ],
   "source": [
    "name.reverse()\n",
    "print(name)\n",
    "phone_number.reverse()\n",
    "print(phone_number)\n",
    "updated_contact.reverse()\n",
    "print (updated_contact)"
   ]
  },
  {
   "cell_type": "markdown",
   "id": "7240dcff",
   "metadata": {},
   "source": [
    "- How to count the frequency of a specific element in a list?\n"
   ]
  },
  {
   "cell_type": "code",
   "execution_count": 97,
   "id": "3526e2a7",
   "metadata": {},
   "outputs": [
    {
     "name": "stdout",
     "output_type": "stream",
     "text": [
      "2\n",
      "3\n"
     ]
    },
    {
     "data": {
      "text/plain": [
       "15"
      ]
     },
     "execution_count": 97,
     "metadata": {},
     "output_type": "execute_result"
    }
   ],
   "source": [
    "nums= [1, 1, 2, 4, 5, 45, 5, 6, 7, 4, 4, 5, 7,0, 50]\n",
    "print(nums.count(1))\n",
    "print(nums.count(5))\n",
    "len(nums)"
   ]
  },
  {
   "cell_type": "markdown",
   "id": "ac24700a",
   "metadata": {},
   "source": [
    "- How to remove an element from a list?\n"
   ]
  },
  {
   "cell_type": "code",
   "execution_count": 107,
   "id": "96421277",
   "metadata": {},
   "outputs": [],
   "source": [
    "nums= [1, 1, 2, 4, 5, 45, 5, 6, 7, 4, 4, 5, 7,0, 50]\n"
   ]
  },
  {
   "cell_type": "code",
   "execution_count": 110,
   "id": "7f4e499d",
   "metadata": {},
   "outputs": [
    {
     "name": "stdout",
     "output_type": "stream",
     "text": [
      "[1, 1, 2, 4, 45, 7, 4, 4, 7, 0, 50]\n"
     ]
    }
   ],
   "source": [
    "nums.remove(5)\n",
    "nums.remove(6)\n",
    "print(nums)"
   ]
  },
  {
   "cell_type": "markdown",
   "id": "dc2ff60f",
   "metadata": {},
   "source": [
    "- How to find the minimum value, maximum value and total sum of a list?\n"
   ]
  },
  {
   "cell_type": "code",
   "execution_count": 112,
   "id": "138fd921",
   "metadata": {},
   "outputs": [
    {
     "name": "stdout",
     "output_type": "stream",
     "text": [
      "0\n",
      "50\n",
      "125\n"
     ]
    }
   ],
   "source": [
    "print(min(nums))\n",
    "print(max(nums))\n",
    "print(sum(nums))"
   ]
  },
  {
   "cell_type": "markdown",
   "id": "8356bb43",
   "metadata": {},
   "source": [
    "- What will happen if you add two lists?\n"
   ]
  },
  {
   "cell_type": "code",
   "execution_count": 115,
   "id": "bb7df638",
   "metadata": {},
   "outputs": [
    {
     "name": "stdout",
     "output_type": "stream",
     "text": [
      "['Ebul', 'Dabul', 'Cabul', 'BAbul', 'Abul', 1111, 2222, 3333, 4444, 5555]\n"
     ]
    }
   ],
   "source": [
    "phone_book= name + phone_number\n",
    "print(phone_book)"
   ]
  },
  {
   "cell_type": "code",
   "execution_count": 116,
   "id": "f6563c55",
   "metadata": {},
   "outputs": [
    {
     "name": "stdout",
     "output_type": "stream",
     "text": [
      "[1, 2, 3, 4, 5, 6, 7, 8]\n"
     ]
    }
   ],
   "source": [
    "list_a = [1,2,3,4]\n",
    "list_b = [5, 6, 7, 8]\n",
    "list_c = list_a + list_b\n",
    "print(list_c)"
   ]
  },
  {
   "cell_type": "markdown",
   "id": "fbf56d04",
   "metadata": {},
   "source": [
    "- How to sort a list?\n"
   ]
  },
  {
   "cell_type": "code",
   "execution_count": 118,
   "id": "8cc3e30f",
   "metadata": {},
   "outputs": [
    {
     "name": "stdout",
     "output_type": "stream",
     "text": [
      "[-8, -2, 0, 2, 3, 6, 9]\n"
     ]
    }
   ],
   "source": [
    "numbers = [0, 2, 6, -2, -8, 3, 9]\n",
    "print(sorted(numbers))"
   ]
  },
  {
   "cell_type": "markdown",
   "id": "1d3a3fc1",
   "metadata": {},
   "source": [
    "- **Tuple**\n",
    "- tuple is used with parentheses<br>\n",
    "- tuple is immutable --> most important"
   ]
  },
  {
   "cell_type": "code",
   "execution_count": 119,
   "id": "f09ccc08",
   "metadata": {},
   "outputs": [
    {
     "name": "stdout",
     "output_type": "stream",
     "text": [
      "<class 'tuple'>\n"
     ]
    }
   ],
   "source": [
    "name= (\"aka\", \"baka\", \"caka\", \"daka\")\n",
    "print(type(name))"
   ]
  },
  {
   "cell_type": "markdown",
   "id": "7e490f8b",
   "metadata": {},
   "source": [
    "- Tuple slicing\n"
   ]
  },
  {
   "cell_type": "code",
   "execution_count": 121,
   "id": "0d3c2184",
   "metadata": {},
   "outputs": [
    {
     "name": "stdout",
     "output_type": "stream",
     "text": [
      "aka\n",
      "baka\n"
     ]
    }
   ],
   "source": [
    "print(name[0])\n",
    "print(name[1])"
   ]
  },
  {
   "cell_type": "markdown",
   "id": "7f48e8fe",
   "metadata": {},
   "source": [
    "-  immutable "
   ]
  },
  {
   "cell_type": "code",
   "execution_count": 125,
   "id": "da770fac",
   "metadata": {},
   "outputs": [
    {
     "name": "stdout",
     "output_type": "stream",
     "text": [
      "['Abul', 'Gabul', 'Cabul', 'Dabul']\n"
     ]
    }
   ],
   "source": [
    "name_list = ['Abul', 'BAbul', 'Cabul', 'Dabul']\n",
    "name_list[1] = \"Gabul\"\n",
    "print(name_list)"
   ]
  },
  {
   "cell_type": "code",
   "execution_count": 126,
   "id": "a225afba",
   "metadata": {},
   "outputs": [
    {
     "ename": "TypeError",
     "evalue": "'tuple' object does not support item assignment",
     "output_type": "error",
     "traceback": [
      "\u001b[1;31m---------------------------------------------------------------------------\u001b[0m",
      "\u001b[1;31mTypeError\u001b[0m                                 Traceback (most recent call last)",
      "Cell \u001b[1;32mIn[126], line 1\u001b[0m\n\u001b[1;32m----> 1\u001b[0m name [\u001b[38;5;241m1\u001b[39m] \u001b[38;5;241m=\u001b[39m \u001b[38;5;124m\"\u001b[39m\u001b[38;5;124mkabul\u001b[39m\u001b[38;5;124m\"\u001b[39m\n\u001b[0;32m      2\u001b[0m \u001b[38;5;28mprint\u001b[39m(name)\n",
      "\u001b[1;31mTypeError\u001b[0m: 'tuple' object does not support item assignment"
     ]
    }
   ],
   "source": [
    "name [1] = \"kabul\"\n",
    "print(name)"
   ]
  },
  {
   "cell_type": "markdown",
   "id": "c8fef3ff",
   "metadata": {},
   "source": [
    "- You cannot change any value inside a tuple and you cannot insert or delete as well\n",
    "\n"
   ]
  },
  {
   "cell_type": "code",
   "execution_count": null,
   "id": "e225c651",
   "metadata": {},
   "outputs": [],
   "source": []
  },
  {
   "cell_type": "markdown",
   "id": "8ce29791",
   "metadata": {},
   "source": [
    "- **Similarities in List and TupleThe two data structures are both sequence data types that store collections of items.**|\n",
    "\n",
    "  \n",
    "   - The two data structures are both sequence data types that store collections of items.<br>\n",
    "   - Items of any data type can be stored in them.<br>\n",
    "   - Items can be accessed by their index.\n",
    "\n",
    "\n"
   ]
  },
  {
   "cell_type": "markdown",
   "id": "a1eec72a",
   "metadata": {},
   "source": [
    "- **Difference between List and Tuple**\n",
    "\n",
    "    - List is mutable, whereas a tuple is immutable. \n",
    "   This means that lists can be changed, and tuples cannot be changed."
   ]
  },
  {
   "cell_type": "markdown",
   "id": "a78c0615",
   "metadata": {},
   "source": [
    "- **Set**\n",
    "1. It works with a curly brace--> {}<br>\n",
    "2. One item can appear only once<br>\n",
    "3. You cannot slice item from set, unlike lists or tuples"
   ]
  },
  {
   "cell_type": "code",
   "execution_count": 134,
   "id": "18a63cbf",
   "metadata": {},
   "outputs": [
    {
     "name": "stdout",
     "output_type": "stream",
     "text": [
      "{8, 1, 4, 5}\n",
      "{1, 20, 22, 26, 75, 92}\n",
      "{1, 4, 5, 8, 75, 20, 22, 26, 92}\n",
      "{1}\n",
      "{8, 4, 5}\n",
      "{75, 20, 22, 26, 92}\n",
      "<class 'set'>\n"
     ]
    }
   ],
   "source": [
    "set_A = {1, 4, 5, 1, 8}\n",
    "print(set_A)\n",
    "set_B = {22, 26, 1,75, 92, 20}\n",
    "print(set_B)\n",
    "print(set_A.union(set_B))\n",
    "print(set_A.intersection(set_B))\n",
    "print(set_A.difference (set_B))\n",
    "print(set_B.difference (set_A))\n",
    "print(type(set_A))"
   ]
  },
  {
   "cell_type": "markdown",
   "id": "56f87bcb",
   "metadata": {},
   "source": [
    "- **Dictionary**"
   ]
  },
  {
   "cell_type": "code",
   "execution_count": 140,
   "id": "a413a17e",
   "metadata": {},
   "outputs": [
    {
     "name": "stdout",
     "output_type": "stream",
     "text": [
      "<class 'dict'>\n",
      "1111\n",
      "2222\n",
      "dict_keys(['abul', 'babul', 'cabul', 'dabul'])\n",
      "dict_values([1111, 2222, 3333, 4444])\n"
     ]
    }
   ],
   "source": [
    "phone_contacts = {\"abul\" : 1111,\n",
    "                  \"babul\" : 2222,\n",
    "                  \"cabul\" : 3333,\n",
    "                  \"dabul\" : 4444}\n",
    "print(type(phone_contacts))\n",
    "print(phone_contacts[\"abul\"])\n",
    "print(phone_contacts[\"babul\"])\n",
    "\n",
    "print(phone_contacts.keys())\n",
    "print(phone_contacts.values())"
   ]
  },
  {
   "cell_type": "code",
   "execution_count": 146,
   "id": "b7092a0d",
   "metadata": {},
   "outputs": [
    {
     "name": "stdout",
     "output_type": "stream",
     "text": [
      "{'abul': [7777, 6666], 'babul': 2222, 'cabul': 3333, 'dabul': 4444, 'fabul': [7666]}\n",
      "{'abul': [7777, 6666], 'babul': 2222, 'cabul': 3333, 'dabul': 4444, 'fabul': [7666]}\n",
      "{'babul': 2222, 'cabul': 3333, 'dabul': 4444, 'fabul': [7666]}\n"
     ]
    }
   ],
   "source": [
    "#adding new new number in dictionary \n",
    "phone_contacts[\"abul\"]= [7777, 6666]\n",
    "print(phone_contacts)\n",
    "phone_contacts[\"fabul\"]= [7666]\n",
    "print(phone_contacts)\n",
    "del phone_contacts[\"abul\"]\n",
    "print(phone_contacts)"
   ]
  },
  {
   "cell_type": "markdown",
   "id": "7950ffa4",
   "metadata": {},
   "source": [
    "- **Summary**\n",
    "- List - indexed storage<br>\n",
    "- Dictionary - Logical Association storage<br>\n",
    "- Tuple - Memory optimized and Secure data storage<br>\n",
    "- Set - unindexed data storage, widely useful for removing redundancy and mathematics ops\n"
   ]
  },
  {
   "cell_type": "code",
   "execution_count": null,
   "id": "cf4ceb46",
   "metadata": {},
   "outputs": [],
   "source": []
  }
 ],
 "metadata": {
  "kernelspec": {
   "display_name": "Python 3 (ipykernel)",
   "language": "python",
   "name": "python3"
  },
  "language_info": {
   "codemirror_mode": {
    "name": "ipython",
    "version": 3
   },
   "file_extension": ".py",
   "mimetype": "text/x-python",
   "name": "python",
   "nbconvert_exporter": "python",
   "pygments_lexer": "ipython3",
   "version": "3.11.4"
  }
 },
 "nbformat": 4,
 "nbformat_minor": 5
}
