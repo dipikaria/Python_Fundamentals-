{
 "cells": [
  {
   "cell_type": "markdown",
   "id": "bdd91d8f",
   "metadata": {},
   "source": [
    "- **Objectives:**\n",
    "<br>How to write if-else, while and for loop in Python<br>\n",
    "Writing functions in Python<br>\n",
    "LeetCode problems\n",
    "\n",
    "\n",
    "\n"
   ]
  },
  {
   "cell_type": "markdown",
   "id": "351cf51a",
   "metadata": {},
   "source": [
    "- **HW4:**\n",
    "<br>https://leetcode.com/problems/maximum-product-of-three-numbers/\n",
    "<br>https://leetcode.com/problems/richest-customer-wealth/\n",
    "<br>https://leetcode.com/problems/shuffle-the-array/\n",
    "<br>https://leetcode.com/problems/valid-perfect-square/"
   ]
  },
  {
   "cell_type": "markdown",
   "id": "0df238fe",
   "metadata": {},
   "source": [
    "- **Example: for loop**"
   ]
  },
  {
   "cell_type": "code",
   "execution_count": null,
   "id": "5df53356",
   "metadata": {},
   "outputs": [],
   "source": []
  },
  {
   "cell_type": "markdown",
   "id": "6b2d71d9",
   "metadata": {},
   "source": [
    "- **Writing Functions**"
   ]
  },
  {
   "cell_type": "code",
   "execution_count": null,
   "id": "e0cb8f58",
   "metadata": {},
   "outputs": [],
   "source": []
  },
  {
   "cell_type": "markdown",
   "id": "594f0ab2",
   "metadata": {},
   "source": [
    "- **Even or odd**"
   ]
  },
  {
   "cell_type": "code",
   "execution_count": null,
   "id": "1a7eb75d",
   "metadata": {},
   "outputs": [],
   "source": []
  },
  {
   "cell_type": "markdown",
   "id": "93a436fa",
   "metadata": {},
   "source": [
    "- **Example of while condition**"
   ]
  },
  {
   "cell_type": "code",
   "execution_count": null,
   "id": "555e24d7",
   "metadata": {},
   "outputs": [],
   "source": []
  },
  {
   "cell_type": "markdown",
   "id": "eba1c3c6",
   "metadata": {},
   "source": [
    "- **example: if-else**"
   ]
  },
  {
   "cell_type": "code",
   "execution_count": null,
   "id": "43fa52b5",
   "metadata": {},
   "outputs": [],
   "source": []
  },
  {
   "cell_type": "markdown",
   "id": "8063e6d4",
   "metadata": {},
   "source": [
    "- **Example of cumulative sum using for loop**"
   ]
  },
  {
   "cell_type": "code",
   "execution_count": null,
   "id": "043ae81d",
   "metadata": {},
   "outputs": [],
   "source": []
  },
  {
   "cell_type": "markdown",
   "id": "2352ff62",
   "metadata": {},
   "source": [
    "- **LeetCode Problem 01: Defanging an IP Address**"
   ]
  },
  {
   "cell_type": "code",
   "execution_count": null,
   "id": "22c98bfd",
   "metadata": {},
   "outputs": [],
   "source": []
  },
  {
   "cell_type": "markdown",
   "id": "72de686e",
   "metadata": {},
   "source": [
    "- **Example 1:**"
   ]
  },
  {
   "cell_type": "code",
   "execution_count": null,
   "id": "ad9e3ca8",
   "metadata": {},
   "outputs": [],
   "source": []
  },
  {
   "cell_type": "markdown",
   "id": "5e66b06f",
   "metadata": {},
   "source": [
    "- **Example 2:**"
   ]
  },
  {
   "cell_type": "code",
   "execution_count": null,
   "id": "c9590ed5",
   "metadata": {},
   "outputs": [],
   "source": []
  },
  {
   "cell_type": "markdown",
   "id": "aed2a245",
   "metadata": {},
   "source": [
    "- **LeetCode Problem 02: Goal Parser Interpretation**"
   ]
  },
  {
   "cell_type": "code",
   "execution_count": null,
   "id": "cd984c7e",
   "metadata": {},
   "outputs": [],
   "source": []
  },
  {
   "cell_type": "markdown",
   "id": "1668f490",
   "metadata": {},
   "source": [
    "- **LeetCode Problem 03: Check If Two String Arrays are Equivalent**"
   ]
  },
  {
   "cell_type": "code",
   "execution_count": null,
   "id": "f93f033a",
   "metadata": {},
   "outputs": [],
   "source": []
  }
 ],
 "metadata": {
  "kernelspec": {
   "display_name": "Python 3 (ipykernel)",
   "language": "python",
   "name": "python3"
  },
  "language_info": {
   "codemirror_mode": {
    "name": "ipython",
    "version": 3
   },
   "file_extension": ".py",
   "mimetype": "text/x-python",
   "name": "python",
   "nbconvert_exporter": "python",
   "pygments_lexer": "ipython3",
   "version": "3.11.4"
  }
 },
 "nbformat": 4,
 "nbformat_minor": 5
}
